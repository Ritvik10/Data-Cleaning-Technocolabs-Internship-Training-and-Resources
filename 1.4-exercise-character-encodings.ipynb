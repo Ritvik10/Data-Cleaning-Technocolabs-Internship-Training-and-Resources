{
 "cells": [
  {
   "cell_type": "markdown",
   "id": "b6515591",
   "metadata": {
    "papermill": {
     "duration": 0.007454,
     "end_time": "2022-06-19T18:32:20.624457",
     "exception": false,
     "start_time": "2022-06-19T18:32:20.617003",
     "status": "completed"
    },
    "tags": []
   },
   "source": [
    "**This notebook is an exercise in the [Data Cleaning](https://www.kaggle.com/learn/data-cleaning) course.  You can reference the tutorial at [this link](https://www.kaggle.com/alexisbcook/character-encodings).**\n",
    "\n",
    "---\n"
   ]
  },
  {
   "cell_type": "markdown",
   "id": "fe80c63e",
   "metadata": {
    "papermill": {
     "duration": 0.003644,
     "end_time": "2022-06-19T18:32:20.632229",
     "exception": false,
     "start_time": "2022-06-19T18:32:20.628585",
     "status": "completed"
    },
    "tags": []
   },
   "source": [
    "In this exercise, you'll apply what you learned in the **Character encodings** tutorial.\n",
    "\n",
    "# Setup\n",
    "\n",
    "The questions below will give you feedback on your work. Run the following cell to set up the feedback system."
   ]
  },
  {
   "cell_type": "code",
   "execution_count": 1,
   "id": "e417ebe5",
   "metadata": {
    "execution": {
     "iopub.execute_input": "2022-06-19T18:32:20.641726Z",
     "iopub.status.busy": "2022-06-19T18:32:20.641245Z",
     "iopub.status.idle": "2022-06-19T18:32:20.723894Z",
     "shell.execute_reply": "2022-06-19T18:32:20.722659Z"
    },
    "papermill": {
     "duration": 0.090411,
     "end_time": "2022-06-19T18:32:20.726564",
     "exception": false,
     "start_time": "2022-06-19T18:32:20.636153",
     "status": "completed"
    },
    "tags": []
   },
   "outputs": [
    {
     "name": "stdout",
     "output_type": "stream",
     "text": [
      "Setup Complete\n"
     ]
    }
   ],
   "source": [
    "from learntools.core import binder\n",
    "binder.bind(globals())\n",
    "from learntools.data_cleaning.ex4 import *\n",
    "print(\"Setup Complete\")"
   ]
  },
  {
   "cell_type": "markdown",
   "id": "d169cd82",
   "metadata": {
    "papermill": {
     "duration": 0.003857,
     "end_time": "2022-06-19T18:32:20.734602",
     "exception": false,
     "start_time": "2022-06-19T18:32:20.730745",
     "status": "completed"
    },
    "tags": []
   },
   "source": [
    "# Get our environment set up\n",
    "\n",
    "The first thing we'll need to do is load in the libraries we'll be using."
   ]
  },
  {
   "cell_type": "code",
   "execution_count": 2,
   "id": "7ce3bb49",
   "metadata": {
    "execution": {
     "iopub.execute_input": "2022-06-19T18:32:20.744623Z",
     "iopub.status.busy": "2022-06-19T18:32:20.744244Z",
     "iopub.status.idle": "2022-06-19T18:32:20.748380Z",
     "shell.execute_reply": "2022-06-19T18:32:20.747599Z"
    },
    "papermill": {
     "duration": 0.011455,
     "end_time": "2022-06-19T18:32:20.750204",
     "exception": false,
     "start_time": "2022-06-19T18:32:20.738749",
     "status": "completed"
    },
    "tags": []
   },
   "outputs": [],
   "source": [
    "# modules we'll use\n",
    "import pandas as pd\n",
    "import numpy as np\n",
    "\n",
    "# helpful character encoding module\n",
    "import chardet\n",
    "\n",
    "# set seed for reproducibility\n",
    "np.random.seed(0)"
   ]
  },
  {
   "cell_type": "markdown",
   "id": "0766cd09",
   "metadata": {
    "papermill": {
     "duration": 0.003866,
     "end_time": "2022-06-19T18:32:20.758312",
     "exception": false,
     "start_time": "2022-06-19T18:32:20.754446",
     "status": "completed"
    },
    "tags": []
   },
   "source": [
    "# 1) What are encodings?\n",
    "\n",
    "You're working with a dataset composed of bytes.  Run the code cell below to print a sample entry."
   ]
  },
  {
   "cell_type": "code",
   "execution_count": 3,
   "id": "ea1e8cae",
   "metadata": {
    "execution": {
     "iopub.execute_input": "2022-06-19T18:32:20.767971Z",
     "iopub.status.busy": "2022-06-19T18:32:20.767611Z",
     "iopub.status.idle": "2022-06-19T18:32:20.771897Z",
     "shell.execute_reply": "2022-06-19T18:32:20.771183Z"
    },
    "papermill": {
     "duration": 0.011952,
     "end_time": "2022-06-19T18:32:20.774274",
     "exception": false,
     "start_time": "2022-06-19T18:32:20.762322",
     "status": "completed"
    },
    "tags": []
   },
   "outputs": [
    {
     "name": "stdout",
     "output_type": "stream",
     "text": [
      "b'\\xa7A\\xa6n'\n",
      "data type: <class 'bytes'>\n"
     ]
    }
   ],
   "source": [
    "sample_entry = b'\\xa7A\\xa6n'\n",
    "print(sample_entry)\n",
    "print('data type:', type(sample_entry))"
   ]
  },
  {
   "cell_type": "markdown",
   "id": "9ca8011a",
   "metadata": {
    "papermill": {
     "duration": 0.004047,
     "end_time": "2022-06-19T18:32:20.783968",
     "exception": false,
     "start_time": "2022-06-19T18:32:20.779921",
     "status": "completed"
    },
    "tags": []
   },
   "source": [
    "You notice that it doesn't use the standard UTF-8 encoding. \n",
    "\n",
    "Use the next code cell to create a variable `new_entry` that changes the encoding from `\"big5-tw\"` to `\"utf-8\"`.  `new_entry` should have the bytes datatype."
   ]
  },
  {
   "cell_type": "code",
   "execution_count": 4,
   "id": "962ad647",
   "metadata": {
    "execution": {
     "iopub.execute_input": "2022-06-19T18:32:20.793844Z",
     "iopub.status.busy": "2022-06-19T18:32:20.793470Z",
     "iopub.status.idle": "2022-06-19T18:32:20.803423Z",
     "shell.execute_reply": "2022-06-19T18:32:20.802642Z"
    },
    "papermill": {
     "duration": 0.018298,
     "end_time": "2022-06-19T18:32:20.806342",
     "exception": false,
     "start_time": "2022-06-19T18:32:20.788044",
     "status": "completed"
    },
    "tags": []
   },
   "outputs": [
    {
     "data": {
      "application/javascript": [
       "parent.postMessage({\"jupyterEvent\": \"custom.exercise_interaction\", \"data\": {\"outcomeType\": 1, \"valueTowardsCompletion\": 0.3333333333333333, \"interactionType\": 1, \"questionType\": 1, \"questionId\": \"1_EncodingsIntro\", \"learnToolsVersion\": \"0.3.4\", \"failureMessage\": \"\", \"exceptionClass\": \"\", \"trace\": \"\"}}, \"*\")"
      ],
      "text/plain": [
       "<IPython.core.display.Javascript object>"
      ]
     },
     "metadata": {},
     "output_type": "display_data"
    },
    {
     "data": {
      "text/markdown": [
       "<span style=\"color:#33cc33\">Correct</span>"
      ],
      "text/plain": [
       "Correct"
      ]
     },
     "metadata": {},
     "output_type": "display_data"
    }
   ],
   "source": [
    "new_entry = sample_entry.decode(\"big5-tw\")\n",
    "new_entry = new_entry.encode()\n",
    "\n",
    "# Check your answer\n",
    "q1.check()"
   ]
  },
  {
   "cell_type": "code",
   "execution_count": 5,
   "id": "5288dbd4",
   "metadata": {
    "execution": {
     "iopub.execute_input": "2022-06-19T18:32:20.816760Z",
     "iopub.status.busy": "2022-06-19T18:32:20.816407Z",
     "iopub.status.idle": "2022-06-19T18:32:20.822293Z",
     "shell.execute_reply": "2022-06-19T18:32:20.821598Z"
    },
    "papermill": {
     "duration": 0.013157,
     "end_time": "2022-06-19T18:32:20.823889",
     "exception": false,
     "start_time": "2022-06-19T18:32:20.810732",
     "status": "completed"
    },
    "tags": []
   },
   "outputs": [
    {
     "data": {
      "application/javascript": [
       "parent.postMessage({\"jupyterEvent\": \"custom.exercise_interaction\", \"data\": {\"interactionType\": 3, \"questionType\": 1, \"questionId\": \"1_EncodingsIntro\", \"learnToolsVersion\": \"0.3.4\", \"valueTowardsCompletion\": 0.0, \"failureMessage\": \"\", \"exceptionClass\": \"\", \"trace\": \"\", \"outcomeType\": 4}}, \"*\")"
      ],
      "text/plain": [
       "<IPython.core.display.Javascript object>"
      ]
     },
     "metadata": {},
     "output_type": "display_data"
    },
    {
     "data": {
      "text/markdown": [
       "<span style=\"color:#33cc99\">Solution:</span> \n",
       "```python\n",
       "before = sample_entry.decode(\"big5-tw\")\n",
       "new_entry = before.encode()\n",
       "\n",
       "```"
      ],
      "text/plain": [
       "Solution: \n",
       "```python\n",
       "before = sample_entry.decode(\"big5-tw\")\n",
       "new_entry = before.encode()\n",
       "\n",
       "```"
      ]
     },
     "metadata": {},
     "output_type": "display_data"
    }
   ],
   "source": [
    "# Lines below will give you a hint or solution code\n",
    "#q1.hint()\n",
    "q1.solution()"
   ]
  },
  {
   "cell_type": "markdown",
   "id": "243c2813",
   "metadata": {
    "papermill": {
     "duration": 0.004298,
     "end_time": "2022-06-19T18:32:20.832722",
     "exception": false,
     "start_time": "2022-06-19T18:32:20.828424",
     "status": "completed"
    },
    "tags": []
   },
   "source": [
    "# 2) Reading in files with encoding problems\n",
    "\n",
    "Use the code cell below to read in this file at path `\"../input/fatal-police-shootings-in-the-us/PoliceKillingsUS.csv\"`.  \n",
    "\n",
    "Figure out what the correct encoding should be and read in the file to a DataFrame `police_killings`."
   ]
  },
  {
   "cell_type": "code",
   "execution_count": 6,
   "id": "187aa577",
   "metadata": {
    "execution": {
     "iopub.execute_input": "2022-06-19T18:32:20.843941Z",
     "iopub.status.busy": "2022-06-19T18:32:20.843259Z",
     "iopub.status.idle": "2022-06-19T18:32:20.865953Z",
     "shell.execute_reply": "2022-06-19T18:32:20.865148Z"
    },
    "papermill": {
     "duration": 0.030437,
     "end_time": "2022-06-19T18:32:20.867820",
     "exception": false,
     "start_time": "2022-06-19T18:32:20.837383",
     "status": "completed"
    },
    "tags": []
   },
   "outputs": [
    {
     "data": {
      "application/javascript": [
       "parent.postMessage({\"jupyterEvent\": \"custom.exercise_interaction\", \"data\": {\"outcomeType\": 1, \"valueTowardsCompletion\": 0.3333333333333333, \"interactionType\": 1, \"questionType\": 1, \"questionId\": \"2_ReadIn\", \"learnToolsVersion\": \"0.3.4\", \"failureMessage\": \"\", \"exceptionClass\": \"\", \"trace\": \"\"}}, \"*\")"
      ],
      "text/plain": [
       "<IPython.core.display.Javascript object>"
      ]
     },
     "metadata": {},
     "output_type": "display_data"
    },
    {
     "data": {
      "text/markdown": [
       "<span style=\"color:#33cc33\">Correct</span>"
      ],
      "text/plain": [
       "Correct"
      ]
     },
     "metadata": {},
     "output_type": "display_data"
    }
   ],
   "source": [
    "# TODO: Load in the DataFrame correctly.\n",
    "police_killings = pd.read_csv(\"../input/fatal-police-shootings-in-the-us/PoliceKillingsUS.csv\", encoding='Windows-1252')\n",
    "police_killings.head()\n",
    "# Check your answer\n",
    "q2.check()"
   ]
  },
  {
   "cell_type": "markdown",
   "id": "2b7bf1d1",
   "metadata": {
    "papermill": {
     "duration": 0.004383,
     "end_time": "2022-06-19T18:32:20.877046",
     "exception": false,
     "start_time": "2022-06-19T18:32:20.872663",
     "status": "completed"
    },
    "tags": []
   },
   "source": [
    "Feel free to use any additional code cells for supplemental work.  To get credit for finishing this question, you'll need to run `q2.check()` and get a result of **Correct**."
   ]
  },
  {
   "cell_type": "code",
   "execution_count": 7,
   "id": "5859b96e",
   "metadata": {
    "execution": {
     "iopub.execute_input": "2022-06-19T18:32:20.887880Z",
     "iopub.status.busy": "2022-06-19T18:32:20.887481Z",
     "iopub.status.idle": "2022-06-19T18:32:20.893976Z",
     "shell.execute_reply": "2022-06-19T18:32:20.892695Z"
    },
    "papermill": {
     "duration": 0.014781,
     "end_time": "2022-06-19T18:32:20.896522",
     "exception": false,
     "start_time": "2022-06-19T18:32:20.881741",
     "status": "completed"
    },
    "tags": []
   },
   "outputs": [
    {
     "name": "stdout",
     "output_type": "stream",
     "text": [
      "{'encoding': 'ascii', 'confidence': 1.0, 'language': ''}\n"
     ]
    }
   ],
   "source": [
    "with open(\"../input/fatal-police-shootings-in-the-us/PoliceKillingsUS.csv\", 'rb') as rawdata:\n",
    "    result = chardet.detect(rawdata.read(10000))\n",
    "print(result)"
   ]
  },
  {
   "cell_type": "code",
   "execution_count": 8,
   "id": "56d962be",
   "metadata": {
    "execution": {
     "iopub.execute_input": "2022-06-19T18:32:20.909036Z",
     "iopub.status.busy": "2022-06-19T18:32:20.908403Z",
     "iopub.status.idle": "2022-06-19T18:32:20.915957Z",
     "shell.execute_reply": "2022-06-19T18:32:20.915231Z"
    },
    "papermill": {
     "duration": 0.015795,
     "end_time": "2022-06-19T18:32:20.917687",
     "exception": false,
     "start_time": "2022-06-19T18:32:20.901892",
     "status": "completed"
    },
    "tags": []
   },
   "outputs": [
    {
     "data": {
      "application/javascript": [
       "parent.postMessage({\"jupyterEvent\": \"custom.exercise_interaction\", \"data\": {\"interactionType\": 3, \"questionType\": 1, \"questionId\": \"2_ReadIn\", \"learnToolsVersion\": \"0.3.4\", \"valueTowardsCompletion\": 0.0, \"failureMessage\": \"\", \"exceptionClass\": \"\", \"trace\": \"\", \"outcomeType\": 4}}, \"*\")"
      ],
      "text/plain": [
       "<IPython.core.display.Javascript object>"
      ]
     },
     "metadata": {},
     "output_type": "display_data"
    },
    {
     "data": {
      "text/markdown": [
       "<span style=\"color:#33cc99\">Solution:</span> \n",
       "```python\n",
       "police_killings = pd.read_csv(\"../input/fatal-police-shootings-in-the-us/PoliceKillingsUS.csv\", encoding='Windows-1252')\n",
       "\n",
       "```"
      ],
      "text/plain": [
       "Solution: \n",
       "```python\n",
       "police_killings = pd.read_csv(\"../input/fatal-police-shootings-in-the-us/PoliceKillingsUS.csv\", encoding='Windows-1252')\n",
       "\n",
       "```"
      ]
     },
     "metadata": {},
     "output_type": "display_data"
    }
   ],
   "source": [
    "# Lines below will give you a hint or solution code\n",
    "#q2.hint()\n",
    "q2.solution()"
   ]
  },
  {
   "cell_type": "markdown",
   "id": "c6bd09c7",
   "metadata": {
    "papermill": {
     "duration": 0.004633,
     "end_time": "2022-06-19T18:32:20.927316",
     "exception": false,
     "start_time": "2022-06-19T18:32:20.922683",
     "status": "completed"
    },
    "tags": []
   },
   "source": [
    "# 3) Saving your files with UTF-8 encoding\n",
    "\n",
    "Save a version of the police killings dataset to CSV with UTF-8 encoding.  Your answer will be marked correct after saving this file.  \n",
    "\n",
    "Note: When using the `to_csv()` method, supply only the name of the file (e.g., `\"my_file.csv\"`).  This saves the file at the filepath `\"/kaggle/working/my_file.csv\"`."
   ]
  },
  {
   "cell_type": "code",
   "execution_count": 9,
   "id": "6bcccfba",
   "metadata": {
    "execution": {
     "iopub.execute_input": "2022-06-19T18:32:20.938723Z",
     "iopub.status.busy": "2022-06-19T18:32:20.938132Z",
     "iopub.status.idle": "2022-06-19T18:32:20.968924Z",
     "shell.execute_reply": "2022-06-19T18:32:20.968286Z"
    },
    "papermill": {
     "duration": 0.038497,
     "end_time": "2022-06-19T18:32:20.970556",
     "exception": false,
     "start_time": "2022-06-19T18:32:20.932059",
     "status": "completed"
    },
    "tags": []
   },
   "outputs": [
    {
     "data": {
      "application/javascript": [
       "parent.postMessage({\"jupyterEvent\": \"custom.exercise_interaction\", \"data\": {\"outcomeType\": 1, \"valueTowardsCompletion\": 0.3333333333333333, \"interactionType\": 1, \"questionType\": 2, \"questionId\": \"3_SaveCSV\", \"learnToolsVersion\": \"0.3.4\", \"failureMessage\": \"\", \"exceptionClass\": \"\", \"trace\": \"\"}}, \"*\")"
      ],
      "text/plain": [
       "<IPython.core.display.Javascript object>"
      ]
     },
     "metadata": {},
     "output_type": "display_data"
    },
    {
     "data": {
      "text/markdown": [
       "<span style=\"color:#33cc33\">Correct</span>"
      ],
      "text/plain": [
       "Correct"
      ]
     },
     "metadata": {},
     "output_type": "display_data"
    }
   ],
   "source": [
    "# TODO: Save the police killings dataset to CSV\n",
    "____\n",
    "police_killings.to_csv(\"/kaggle/working/my_file.csv\")\n",
    "\n",
    "# Check your answer\n",
    "q3.check()"
   ]
  },
  {
   "cell_type": "code",
   "execution_count": 10,
   "id": "dcf4f4c6",
   "metadata": {
    "execution": {
     "iopub.execute_input": "2022-06-19T18:32:20.982455Z",
     "iopub.status.busy": "2022-06-19T18:32:20.981796Z",
     "iopub.status.idle": "2022-06-19T18:32:20.989756Z",
     "shell.execute_reply": "2022-06-19T18:32:20.988889Z"
    },
    "papermill": {
     "duration": 0.016178,
     "end_time": "2022-06-19T18:32:20.991971",
     "exception": false,
     "start_time": "2022-06-19T18:32:20.975793",
     "status": "completed"
    },
    "tags": []
   },
   "outputs": [
    {
     "data": {
      "application/javascript": [
       "parent.postMessage({\"jupyterEvent\": \"custom.exercise_interaction\", \"data\": {\"interactionType\": 3, \"questionType\": 2, \"questionId\": \"3_SaveCSV\", \"learnToolsVersion\": \"0.3.4\", \"valueTowardsCompletion\": 0.0, \"failureMessage\": \"\", \"exceptionClass\": \"\", \"trace\": \"\", \"outcomeType\": 4}}, \"*\")"
      ],
      "text/plain": [
       "<IPython.core.display.Javascript object>"
      ]
     },
     "metadata": {},
     "output_type": "display_data"
    },
    {
     "data": {
      "text/markdown": [
       "<span style=\"color:#33cc99\">Solution:</span> \n",
       "```python\n",
       "\n",
       "police_killings.to_csv(\"my_file.csv\")\n",
       "\n",
       "```"
      ],
      "text/plain": [
       "Solution: \n",
       "```python\n",
       "\n",
       "police_killings.to_csv(\"my_file.csv\")\n",
       "\n",
       "```"
      ]
     },
     "metadata": {},
     "output_type": "display_data"
    }
   ],
   "source": [
    "# Lines below will give you a hint or solution code\n",
    "#q3.hint()\n",
    "q3.solution()"
   ]
  },
  {
   "cell_type": "markdown",
   "id": "ff419185",
   "metadata": {
    "papermill": {
     "duration": 0.004989,
     "end_time": "2022-06-19T18:32:21.002323",
     "exception": false,
     "start_time": "2022-06-19T18:32:20.997334",
     "status": "completed"
    },
    "tags": []
   },
   "source": [
    "# (Optional) More practice\n",
    "\n",
    "Check out [this dataset of files in different character encodings](https://www.kaggle.com/rtatman/character-encoding-examples). Can you read in all the files with their original encodings and them save them out as UTF-8 files?\n",
    "\n",
    "If you have a file that's in UTF-8 but has just a couple of weird-looking characters in it, you can try out the [ftfy module](https://ftfy.readthedocs.io/en/latest/#) and see if it helps. \n",
    "\n",
    "# Keep going\n",
    "\n",
    "In the final lesson, learn how to [**clean up inconsistent text entries**](https://www.kaggle.com/alexisbcook/inconsistent-data-entry) in your dataset."
   ]
  },
  {
   "cell_type": "markdown",
   "id": "25de5b53",
   "metadata": {
    "papermill": {
     "duration": 0.004869,
     "end_time": "2022-06-19T18:32:21.012425",
     "exception": false,
     "start_time": "2022-06-19T18:32:21.007556",
     "status": "completed"
    },
    "tags": []
   },
   "source": [
    "---\n",
    "\n",
    "\n",
    "\n",
    "\n",
    "*Have questions or comments? Visit the [course discussion forum](https://www.kaggle.com/learn/data-cleaning/discussion) to chat with other learners.*"
   ]
  }
 ],
 "metadata": {
  "kernelspec": {
   "display_name": "Python 3",
   "language": "python",
   "name": "python3"
  },
  "language_info": {
   "codemirror_mode": {
    "name": "ipython",
    "version": 3
   },
   "file_extension": ".py",
   "mimetype": "text/x-python",
   "name": "python",
   "nbconvert_exporter": "python",
   "pygments_lexer": "ipython3",
   "version": "3.7.12"
  },
  "papermill": {
   "default_parameters": {},
   "duration": 10.897748,
   "end_time": "2022-06-19T18:32:21.744431",
   "environment_variables": {},
   "exception": null,
   "input_path": "__notebook__.ipynb",
   "output_path": "__notebook__.ipynb",
   "parameters": {},
   "start_time": "2022-06-19T18:32:10.846683",
   "version": "2.3.4"
  }
 },
 "nbformat": 4,
 "nbformat_minor": 5
}
